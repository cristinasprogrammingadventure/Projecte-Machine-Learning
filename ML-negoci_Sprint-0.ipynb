{
 "cells": [
  {
   "cell_type": "markdown",
   "id": "c8b7e044-1f79-4b65-87af-0f7ab7c44304",
   "metadata": {},
   "source": [
    "# **SPRINT 0** - **Instal·lació i configuració de l’entorn de treball per a ML**"
   ]
  },
  {
   "cell_type": "markdown",
   "id": "4d62a777-6c5c-417f-a574-ec6e5b7bdaec",
   "metadata": {},
   "source": [
    "## Exercici 1: Instalación de Anaconda con Python 3 y Jupyter Notebook.\n",
    "\n",
    "* Fet: veure PDF"
   ]
  },
  {
   "cell_type": "markdown",
   "id": "93905878-61ab-42a5-9458-fdc3fce31dda",
   "metadata": {},
   "source": [
    "## Exercici 2: Crea un entorn virtual a Anaconda amb el nom \"entorn_ML\" que contingui les llibreries necessàries per a ML.\n",
    "\n",
    "* Fet: veure PDF"
   ]
  },
  {
   "cell_type": "markdown",
   "id": "ac93605d-80c2-4b5a-91c2-8ab124953497",
   "metadata": {},
   "source": [
    "## Exercici 3: Càlculs senzills en Jupyter Notebook"
   ]
  },
  {
   "cell_type": "code",
   "execution_count": 23,
   "id": "f42195d7-32e2-4de3-8a17-46656cf8c85b",
   "metadata": {},
   "outputs": [
    {
     "name": "stdout",
     "output_type": "stream",
     "text": [
      "Hola\n"
     ]
    }
   ],
   "source": [
    "saludo=\"Hola\"\n",
    "print(saludo)"
   ]
  },
  {
   "cell_type": "code",
   "execution_count": 24,
   "id": "c036a7a9-d2a9-4d63-a906-80df33ecf3c4",
   "metadata": {},
   "outputs": [],
   "source": [
    "# Càlculs senzills amb Python\n",
    "x = 10\n",
    "y = 5"
   ]
  },
  {
   "cell_type": "code",
   "execution_count": 25,
   "id": "2389c1ef-46a3-4a02-8304-3112472fe01e",
   "metadata": {},
   "outputs": [
    {
     "name": "stdout",
     "output_type": "stream",
     "text": [
      "La suma de 10 i 5 és: 15\n"
     ]
    }
   ],
   "source": [
    "# Suma\n",
    "suma = x + y\n",
    "print(f\"La suma de {x} i {y} és: {suma}\")"
   ]
  },
  {
   "cell_type": "code",
   "execution_count": 26,
   "id": "697a7340-de8c-44df-b6b2-3e01576b0ce8",
   "metadata": {},
   "outputs": [
    {
     "name": "stdout",
     "output_type": "stream",
     "text": [
      "La multiplicació de 10 i 5 és: 50\n"
     ]
    }
   ],
   "source": [
    "# Multiplicació\n",
    "multiplicació = x * y\n",
    "print(f\"La multiplicació de {x} i {y} és: {multiplicació}\")"
   ]
  },
  {
   "cell_type": "code",
   "execution_count": 27,
   "id": "d8b8aa6a-104e-4821-863c-b5584cd6df99",
   "metadata": {},
   "outputs": [
    {
     "name": "stdout",
     "output_type": "stream",
     "text": [
      "La divisió de 10 entre 5 és: 2.0\n"
     ]
    }
   ],
   "source": [
    "# Divisió\n",
    "divisió = x / y\n",
    "print(f\"La divisió de {x} entre {y} és: {divisió}\")"
   ]
  },
  {
   "cell_type": "code",
   "execution_count": 28,
   "id": "8a32f272-f353-4969-880e-ea89d10eff62",
   "metadata": {},
   "outputs": [
    {
     "name": "stdout",
     "output_type": "stream",
     "text": [
      "10 elevat a 5 és: 100000\n"
     ]
    }
   ],
   "source": [
    "# Exponenciació\n",
    "exponenciació = x ** y\n",
    "print(f\"{x} elevat a {y} és: {exponenciació}\")"
   ]
  },
  {
   "cell_type": "markdown",
   "id": "3da9e879-a4c7-4d77-89e9-c451a6b1c8cf",
   "metadata": {},
   "source": [
    "## Exercici 4: Provar Markdown per títols, llistes, estil de lletra i imatges"
   ]
  },
  {
   "cell_type": "markdown",
   "id": "78aaaeb7-3465-4f89-bb2e-3d6cc990d544",
   "metadata": {},
   "source": [
    "<img src=\"https://www.markdownguide.org/assets/images/markdown-guide-og.jpg\" alt=\"Markdown Guide Image\" width=\"500px\">\n",
    "\n"
   ]
  },
  {
   "cell_type": "markdown",
   "id": "a62a32a7-5e15-41a0-b526-28488a71a1b4",
   "metadata": {},
   "source": [
    "#### **Títols i subtítols**\n",
    "\n",
    "# Títol 1 (H1)\n",
    "## Títol 2 (H2)\n",
    "### Títol 3 (H3)\n",
    "\n",
    "#### Llistes numerades\n",
    "\n",
    "1. Primer element  \n",
    "2. Segon element  \n",
    "3. Tercer element  \n",
    "\n",
    "#### Llista de la compra sense numerar\n",
    "- Pa\n",
    "- Llet\n",
    "- Ous\n",
    "- Fruita\n",
    "\n",
    "#### Estil de la lletra\n",
    "\n",
    "*Text en cursiva*  \n",
    "**Text en negreta**  \n",
    "~~Text tatxat~~\n",
    "\n",
    "#### Inserir una imatge\n",
    "\n",
    "![Exemple d'una imatge](https://upload.wikimedia.org/wikipedia/commons/3/36/Barcelona%2C_Catalonia.jpg)\n"
   ]
  },
  {
   "cell_type": "markdown",
   "id": "51c24231-b6b2-443b-9a1d-f9e4a70c81ef",
   "metadata": {},
   "source": [
    "### Textos amb diferents colors en Markdown utilitzant HTML:Textos amb diferents colors en Markdown utilitzant HTML:\n",
    "\n",
    "#### Títols i subtítols amb color\n",
    "\n",
    "<h1 style=\"color:red;\">Títol 1 (H1)</h1>\n",
    "<h2 style=\"color:darkgreen;\">Títol 2 (H2)</h2>\n",
    "<h3 style=\"color:darkblue;\">Títol 3 (H3)</h3>\n",
    "\n",
    "#### Llistes numerades i sense numerar amb color\n",
    "\n",
    "<ol style=\"color:red;\">\n",
    "    <li>Primer element</li>\n",
    "    <li>Segon element</li>\n",
    "    <li>Tercer element</li>\n",
    "</ol>\n",
    "\n",
    "<ul style=\"color:darkgreen;\">\n",
    "    <li>Pa</li>\n",
    "    <li>Llet</li>\n",
    "    <li>Ous</li>\n",
    "    <li>Fruita</li>\n",
    "</ul>\n",
    "\n",
    "#### Estil de la lletra amb color\n",
    "\n",
    "<p style=\"color:red;\"><i>Text en cursiva</i></p>  \n",
    "<p style=\"color:darkgreen;\"><b>Text en negreta</b></p>  \n",
    "<p style=\"color:darkblue;\"><s>Text tatxat</s></p>\n",
    "\n"
   ]
  },
  {
   "cell_type": "markdown",
   "id": "e734e856-7f92-450c-b324-f10232795df0",
   "metadata": {},
   "source": [
    "## Exercici 5: Crear un repositori a GitHub\n",
    "\n",
    "* Repositori creat a GitHub amb el nom: ***Projecte-Machine-Learning***\n",
    "\n",
    "Per accedir-hi, clica el següent enllaç: https://github.com/cristinasprogrammingadventure/Projecte-Machine-Learning"
   ]
  },
  {
   "cell_type": "markdown",
   "id": "0d283c43-b74a-4ae1-ac77-66e30295480d",
   "metadata": {},
   "source": [
    "## Exercici 6: Pujar el fitxer de Jupyter Notebook a GitHub\n",
    "\n",
    "Ja he pujat el fitxer .ipynb al meu repositori de GitHub."
   ]
  }
 ],
 "metadata": {
  "kernelspec": {
   "display_name": "Python 3 (ipykernel)",
   "language": "python",
   "name": "python3"
  },
  "language_info": {
   "codemirror_mode": {
    "name": "ipython",
    "version": 3
   },
   "file_extension": ".py",
   "mimetype": "text/x-python",
   "name": "python",
   "nbconvert_exporter": "python",
   "pygments_lexer": "ipython3",
   "version": "3.9.20"
  }
 },
 "nbformat": 4,
 "nbformat_minor": 5
}
